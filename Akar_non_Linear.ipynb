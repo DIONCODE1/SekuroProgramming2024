{
  "nbformat": 4,
  "nbformat_minor": 0,
  "metadata": {
    "colab": {
      "provenance": [],
      "authorship_tag": "ABX9TyP3jd31KOCggty6isqXw/15",
      "include_colab_link": true
    },
    "kernelspec": {
      "name": "python3",
      "display_name": "Python 3"
    },
    "language_info": {
      "name": "python"
    }
  },
  "cells": [
    {
      "cell_type": "markdown",
      "metadata": {
        "id": "view-in-github",
        "colab_type": "text"
      },
      "source": [
        "<a href=\"https://colab.research.google.com/github/DIONCODE1/SekuroProgramming2024/blob/main/Akar_non_Linear.ipynb\" target=\"_parent\"><img src=\"https://colab.research.google.com/assets/colab-badge.svg\" alt=\"Open In Colab\"/></a>"
      ]
    },
    {
      "cell_type": "code",
      "execution_count": null,
      "metadata": {
        "id": "sgiLLZ2j_O9p"
      },
      "outputs": [],
      "source": [
        "import numpy as np\n",
        "xa =\n",
        "xb =\n",
        "e =\n",
        "ea = 100\n",
        "xr = (xa+xb)/2\n",
        "xtrue =\n",
        "def f(X):\n",
        "  return (x)\n",
        "while ea > e :\n",
        "  if f(xa)*f(xr) <= 0 :\n",
        "    xa = xr\n",
        "    else :\n",
        "      xb = xr\n",
        "    elif xr = xtrue:\n",
        "      xr = (xa+xb)/2\n",
        "      ea = 100*abs(xr - xtrue)/xtrue\n",
        "\n"
      ]
    },
    {
      "cell_type": "code",
      "source": [
        "import numpy as np\n",
        "import math\n",
        "m = 68.1 # mass, kg\n",
        "v = 40.0 # velocity, m/s\n",
        "t = 10.0 # time, s\n",
        "g = 9.81\n",
        "def bisection_method(f, a, b, tol=1e-6, max_iter=10):\n",
        "    \"\"\"\n",
        "    Mencari akar fungsi f di dalam interval [a, b] menggunakan metode Bisection.\n",
        "\n",
        "    Parameters:\n",
        "    f (function): Fungsi yang akarnya ingin dicari.\n",
        "    a (float): Batas bawah interval.\n",
        "    b (float): Batas atas interval.\n",
        "    tol (float): Toleransi error untuk solusi yang diinginkan (default: 1e-6).\n",
        "    max_iter (int): Maksimum iterasi yang diperbolehkan (default: 100).\n",
        "\n",
        "    Returns:\n",
        "    float: Perkiraan akar fungsi f atau None jika tidak ditemukan dalam iterasi maksimum.\n",
        "    \"\"\"\n",
        "\n",
        "    iterasi = 0\n",
        "    while (b - a) / 2 > tol and iterasi < max_iter:\n",
        "        c = (a + b) / 2  # Titik tengah\n",
        "        if f(c) == 0:  # Jika titik tengah adalah akar\n",
        "            return c\n",
        "        elif f(a) * f(c) < 0:\n",
        "            b = c  # Akar berada di interval [a, c]\n",
        "        else:\n",
        "            a = c  # Akar berada di interval [c, b]\n",
        "\n",
        "        iterasi += 1\n",
        "        print(f\"Iterasi {iterasi}: c = {c}, f(c) = {f(c)}\")\n",
        "        print(tol)\n",
        "\n",
        "    return (a + b) / 2  # Nilai perkiraan akar\n",
        "\n",
        "\n",
        "# Contoh penggunaan\n",
        "# Misalnya kita ingin mencari akar dari fungsi f(x) = x^2 - 4 di interval [1, 3]\n",
        "\n",
        "def f(c):\n",
        "    return g*m*(1 - math.exp(-c*m/t))/c - v\n",
        "\n",
        "akar = bisection_method(f, 12, 16)\n",
        "print(f\"Akar dari fungsi tersebut adalah: {akar}\")\n"
      ],
      "metadata": {
        "colab": {
          "base_uri": "https://localhost:8080/"
        },
        "id": "nJA8Zb3bLVfX",
        "outputId": "f036e7f5-d264-42ff-abc1-04f8a90ead1d"
      },
      "execution_count": 7,
      "outputs": [
        {
          "output_type": "stream",
          "name": "stdout",
          "text": [
            "Iterasi 1: c = 14.0, f(c) = 7.718642857142854\n",
            "1e-06\n",
            "Iterasi 2: c = 15.0, f(c) = 4.537399999999998\n",
            "1e-06\n",
            "Iterasi 3: c = 15.5, f(c) = 3.1007096774193528\n",
            "1e-06\n",
            "Iterasi 4: c = 15.75, f(c) = 2.416571428571423\n",
            "1e-06\n",
            "Iterasi 5: c = 15.875, f(c) = 2.082582677165348\n",
            "1e-06\n",
            "Iterasi 6: c = 15.9375, f(c) = 1.9175529411764671\n",
            "1e-06\n",
            "Iterasi 7: c = 15.96875, f(c) = 1.83552250489236\n",
            "1e-06\n",
            "Iterasi 8: c = 15.984375, f(c) = 1.7946275659824025\n",
            "1e-06\n",
            "Iterasi 9: c = 15.9921875, f(c) = 1.7742100635075673\n",
            "1e-06\n",
            "Iterasi 10: c = 15.99609375, f(c) = 1.7640087912087878\n",
            "1e-06\n",
            "Akar dari fungsi tersebut adalah: 15.998046875\n"
          ]
        }
      ]
    }
  ]
}